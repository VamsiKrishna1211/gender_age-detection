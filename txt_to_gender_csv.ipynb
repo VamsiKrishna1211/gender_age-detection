{
 "cells": [
  {
   "cell_type": "code",
   "execution_count": 1,
   "metadata": {},
   "outputs": [],
   "source": [
    "import pandas as pd\n",
    "import numpy as np\n",
    "from PIL import Image"
   ]
  },
  {
   "cell_type": "code",
   "execution_count": 2,
   "metadata": {},
   "outputs": [],
   "source": [
    "def filter_df(df):\n",
    "\n",
    "    df['f'] = df.gender.apply(lambda x: int(x in ['f', 'm']))\n",
    "    df = df[df.f == 1]\n",
    "    return df"
   ]
  },
  {
   "cell_type": "code",
   "execution_count": 3,
   "metadata": {},
   "outputs": [],
   "source": [
    "def read_and_resize(filepath, input_shape=(256, 256)):\n",
    "    im = Image.open((filepath)).convert('RGB')\n",
    "    im = im.resize(input_shape)\n",
    "    im_array = np.array(im, dtype=\"uint8\")#[..., ::-1]\n",
    "    return np.array(im_array / (np.max(im_array)+ 0.001), dtype=\"float32\")"
   ]
  },
  {
   "cell_type": "code",
   "execution_count": 4,
   "metadata": {},
   "outputs": [],
   "source": [
    "folder_path = \"./Dataset-copy/\"\n",
    "file_number = [0,1,2,3]\n",
    "file_number = list(map(str, file_number))\n",
    "# file_path = str(folder_path) + 'fold_' + str(i) + 'data.txt'\n",
    "\n",
    "csv_files = []\n",
    "for i in file_number:\n",
    "    file_path = str(folder_path) + 'fold_' + str(i) + '_data.txt'\n",
    "    csv_files.append(pd.read_csv(file_path, sep=\"\\t\"))"
   ]
  },
  {
   "cell_type": "code",
   "execution_count": 5,
   "metadata": {},
   "outputs": [],
   "source": [
    "file_path = str(folder_path) + 'fold_' + str(4) + '_data.txt'\n",
    "test_csv = pd.read_csv(file_path, sep=\"\\t\")"
   ]
  },
  {
   "cell_type": "code",
   "execution_count": 6,
   "metadata": {},
   "outputs": [],
   "source": [
    "concat_csv = pd.concat(csv_files)"
   ]
  },
  {
   "cell_type": "code",
   "execution_count": 7,
   "metadata": {},
   "outputs": [],
   "source": [
    "train_df = filter_df(concat_csv)\n",
    "test_df = filter_df(test_csv)"
   ]
  },
  {
   "cell_type": "code",
   "execution_count": 19,
   "metadata": {},
   "outputs": [],
   "source": [
    "concat_csv = pd.concat(csv_files)"
   ]
  },
  {
   "cell_type": "code",
   "execution_count": null,
   "metadata": {},
   "outputs": [],
   "source": []
  },
  {
   "cell_type": "code",
   "execution_count": 14,
   "metadata": {},
   "outputs": [],
   "source": [
    "test_csv['path'] = test_csv.apply(lambda x: folder_path+\"aligned/\"+x['user_id']+\"/landmark_aligned_face.%s.%s\"\n",
    "                                                                      %(x['face_id'], x['original_image']), axis=1)"
   ]
  },
  {
   "cell_type": "code",
   "execution_count": null,
   "metadata": {},
   "outputs": [],
   "source": [
    "concat_csv.head()"
   ]
  },
  {
   "cell_type": "code",
   "execution_count": 17,
   "metadata": {},
   "outputs": [],
   "source": [
    "concat_csv.to_csv(\"train_gender_filtered_data_with_path.csv\")"
   ]
  },
  {
   "cell_type": "code",
   "execution_count": 18,
   "metadata": {},
   "outputs": [],
   "source": [
    "test_csv.to_csv(\"test_gender_filtered_data_with_path.csv\")"
   ]
  },
  {
   "cell_type": "code",
   "execution_count": null,
   "metadata": {},
   "outputs": [],
   "source": []
  },
  {
   "cell_type": "code",
   "execution_count": null,
   "metadata": {},
   "outputs": [],
   "source": []
  },
  {
   "cell_type": "code",
   "execution_count": 5,
   "metadata": {},
   "outputs": [],
   "source": [
    "#test_images = np.array([read_and_resize(file_path) for file_path in test_df.path.values])\n",
    "test_labels = np.array([int(g == \"m\") for g in test_df.gender.values])"
   ]
  },
  {
   "cell_type": "code",
   "execution_count": 6,
   "metadata": {},
   "outputs": [],
   "source": [
    "import numpy as np\n",
    "from numpy import save"
   ]
  },
  {
   "cell_type": "code",
   "execution_count": 8,
   "metadata": {},
   "outputs": [],
   "source": [
    "save(\"test_gender_labels.npy\", test_labels)"
   ]
  },
  {
   "cell_type": "code",
   "execution_count": 17,
   "metadata": {},
   "outputs": [],
   "source": [
    "train_df.to_csv(\"gender_filtered_data_with_path.csv\")"
   ]
  },
  {
   "cell_type": "code",
   "execution_count": 16,
   "metadata": {},
   "outputs": [
    {
     "data": {
      "text/html": [
       "<div>\n",
       "<style scoped>\n",
       "    .dataframe tbody tr th:only-of-type {\n",
       "        vertical-align: middle;\n",
       "    }\n",
       "\n",
       "    .dataframe tbody tr th {\n",
       "        vertical-align: top;\n",
       "    }\n",
       "\n",
       "    .dataframe thead th {\n",
       "        text-align: right;\n",
       "    }\n",
       "</style>\n",
       "<table border=\"1\" class=\"dataframe\">\n",
       "  <thead>\n",
       "    <tr style=\"text-align: right;\">\n",
       "      <th></th>\n",
       "      <th>user_id</th>\n",
       "      <th>original_image</th>\n",
       "      <th>face_id</th>\n",
       "      <th>age</th>\n",
       "      <th>gender</th>\n",
       "      <th>x</th>\n",
       "      <th>y</th>\n",
       "      <th>dx</th>\n",
       "      <th>dy</th>\n",
       "      <th>tilt_ang</th>\n",
       "      <th>fiducial_yaw_angle</th>\n",
       "      <th>fiducial_score</th>\n",
       "      <th>f</th>\n",
       "      <th>path</th>\n",
       "    </tr>\n",
       "  </thead>\n",
       "  <tbody>\n",
       "    <tr>\n",
       "      <th>0</th>\n",
       "      <td>115321157@N03</td>\n",
       "      <td>12111738395_a7f715aa4e_o.jpg</td>\n",
       "      <td>1744</td>\n",
       "      <td>(4, 6)</td>\n",
       "      <td>m</td>\n",
       "      <td>663</td>\n",
       "      <td>997</td>\n",
       "      <td>637</td>\n",
       "      <td>638</td>\n",
       "      <td>-95</td>\n",
       "      <td>0</td>\n",
       "      <td>129</td>\n",
       "      <td>1</td>\n",
       "      <td>./Dataset-copy/aligned/115321157@N03/landmark_...</td>\n",
       "    </tr>\n",
       "    <tr>\n",
       "      <th>1</th>\n",
       "      <td>115321157@N03</td>\n",
       "      <td>12112413505_0aea8e17c6_o.jpg</td>\n",
       "      <td>1745</td>\n",
       "      <td>(48, 53)</td>\n",
       "      <td>m</td>\n",
       "      <td>505</td>\n",
       "      <td>846</td>\n",
       "      <td>433</td>\n",
       "      <td>433</td>\n",
       "      <td>-95</td>\n",
       "      <td>0</td>\n",
       "      <td>72</td>\n",
       "      <td>1</td>\n",
       "      <td>./Dataset-copy/aligned/115321157@N03/landmark_...</td>\n",
       "    </tr>\n",
       "    <tr>\n",
       "      <th>2</th>\n",
       "      <td>115321157@N03</td>\n",
       "      <td>12112392255_995532c2f0_o.jpg</td>\n",
       "      <td>1744</td>\n",
       "      <td>(4, 6)</td>\n",
       "      <td>m</td>\n",
       "      <td>517</td>\n",
       "      <td>1185</td>\n",
       "      <td>383</td>\n",
       "      <td>383</td>\n",
       "      <td>0</td>\n",
       "      <td>0</td>\n",
       "      <td>70</td>\n",
       "      <td>1</td>\n",
       "      <td>./Dataset-copy/aligned/115321157@N03/landmark_...</td>\n",
       "    </tr>\n",
       "    <tr>\n",
       "      <th>3</th>\n",
       "      <td>115321157@N03</td>\n",
       "      <td>12112392255_995532c2f0_o.jpg</td>\n",
       "      <td>1746</td>\n",
       "      <td>(25, 32)</td>\n",
       "      <td>m</td>\n",
       "      <td>2247</td>\n",
       "      <td>688</td>\n",
       "      <td>376</td>\n",
       "      <td>376</td>\n",
       "      <td>0</td>\n",
       "      <td>30</td>\n",
       "      <td>67</td>\n",
       "      <td>1</td>\n",
       "      <td>./Dataset-copy/aligned/115321157@N03/landmark_...</td>\n",
       "    </tr>\n",
       "    <tr>\n",
       "      <th>4</th>\n",
       "      <td>115321157@N03</td>\n",
       "      <td>12112392255_995532c2f0_o.jpg</td>\n",
       "      <td>1747</td>\n",
       "      <td>(25, 32)</td>\n",
       "      <td>m</td>\n",
       "      <td>1421</td>\n",
       "      <td>667</td>\n",
       "      <td>325</td>\n",
       "      <td>325</td>\n",
       "      <td>0</td>\n",
       "      <td>0</td>\n",
       "      <td>102</td>\n",
       "      <td>1</td>\n",
       "      <td>./Dataset-copy/aligned/115321157@N03/landmark_...</td>\n",
       "    </tr>\n",
       "  </tbody>\n",
       "</table>\n",
       "</div>"
      ],
      "text/plain": [
       "         user_id                original_image  face_id       age gender  \\\n",
       "0  115321157@N03  12111738395_a7f715aa4e_o.jpg     1744    (4, 6)      m   \n",
       "1  115321157@N03  12112413505_0aea8e17c6_o.jpg     1745  (48, 53)      m   \n",
       "2  115321157@N03  12112392255_995532c2f0_o.jpg     1744    (4, 6)      m   \n",
       "3  115321157@N03  12112392255_995532c2f0_o.jpg     1746  (25, 32)      m   \n",
       "4  115321157@N03  12112392255_995532c2f0_o.jpg     1747  (25, 32)      m   \n",
       "\n",
       "      x     y   dx   dy  tilt_ang  fiducial_yaw_angle  fiducial_score  f  \\\n",
       "0   663   997  637  638       -95                   0             129  1   \n",
       "1   505   846  433  433       -95                   0              72  1   \n",
       "2   517  1185  383  383         0                   0              70  1   \n",
       "3  2247   688  376  376         0                  30              67  1   \n",
       "4  1421   667  325  325         0                   0             102  1   \n",
       "\n",
       "                                                path  \n",
       "0  ./Dataset-copy/aligned/115321157@N03/landmark_...  \n",
       "1  ./Dataset-copy/aligned/115321157@N03/landmark_...  \n",
       "2  ./Dataset-copy/aligned/115321157@N03/landmark_...  \n",
       "3  ./Dataset-copy/aligned/115321157@N03/landmark_...  \n",
       "4  ./Dataset-copy/aligned/115321157@N03/landmark_...  "
      ]
     },
     "execution_count": 16,
     "metadata": {},
     "output_type": "execute_result"
    }
   ],
   "source": [
    "test_csv.head()"
   ]
  },
  {
   "cell_type": "code",
   "execution_count": null,
   "metadata": {},
   "outputs": [],
   "source": []
  }
 ],
 "metadata": {
  "kernelspec": {
   "display_name": "Python 3",
   "language": "python",
   "name": "python3"
  },
  "language_info": {
   "codemirror_mode": {
    "name": "ipython",
    "version": 3
   },
   "file_extension": ".py",
   "mimetype": "text/x-python",
   "name": "python",
   "nbconvert_exporter": "python",
   "pygments_lexer": "ipython3",
   "version": "3.7.6"
  }
 },
 "nbformat": 4,
 "nbformat_minor": 4
}
