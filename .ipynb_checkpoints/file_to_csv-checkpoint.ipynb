{
 "cells": [
  {
   "cell_type": "code",
   "execution_count": 60,
   "metadata": {},
   "outputs": [],
   "source": [
    "import csv\n",
    "import os"
   ]
  },
  {
   "cell_type": "code",
   "execution_count": 61,
   "metadata": {},
   "outputs": [
    {
     "name": "stdout",
     "output_type": "stream",
     "text": [
      "./face_age_detection/AdienceBenchmarkOfUnfilteredFacesForGenderAndAgeClassification/faces\n"
     ]
    }
   ],
   "source": [
    "root_dir = './face_age_detection/AdienceBenchmarkOfUnfilteredFacesForGenderAndAgeClassification/'\n",
    "file_names = os.listdir(root_dir)\n",
    "emails = [os.path.join(root_dir,f) for f in os.listdir(root_dir)]\n",
    "\n",
    "\n",
    "print(emails[1])"
   ]
  },
  {
   "cell_type": "code",
   "execution_count": 98,
   "metadata": {},
   "outputs": [
    {
     "data": {
      "text/plain": [
       "29"
      ]
     },
     "execution_count": 98,
     "metadata": {},
     "output_type": "execute_result"
    }
   ],
   "source": [
    "len(file_names)"
   ]
  },
  {
   "cell_type": "code",
   "execution_count": 182,
   "metadata": {},
   "outputs": [
    {
     "ename": "IndexError",
     "evalue": "list index out of range",
     "output_type": "error",
     "traceback": [
      "\u001b[0;31m---------------------------------------------------------------------------\u001b[0m",
      "\u001b[0;31mIndexError\u001b[0m                                Traceback (most recent call last)",
      "\u001b[0;32m<ipython-input-182-4b974118ca54>\u001b[0m in \u001b[0;36m<module>\u001b[0;34m\u001b[0m\n\u001b[0;32m----> 1\u001b[0;31m \u001b[0mopen_file\u001b[0m \u001b[0;34m=\u001b[0m \u001b[0mfile_names\u001b[0m\u001b[0;34m[\u001b[0m\u001b[0;36m29\u001b[0m\u001b[0;34m]\u001b[0m\u001b[0;34m\u001b[0m\u001b[0;34m\u001b[0m\u001b[0m\n\u001b[0m\u001b[1;32m      2\u001b[0m \u001b[0mprint\u001b[0m\u001b[0;34m(\u001b[0m\u001b[0mopen_file\u001b[0m\u001b[0;34m)\u001b[0m\u001b[0;34m\u001b[0m\u001b[0;34m\u001b[0m\u001b[0m\n",
      "\u001b[0;31mIndexError\u001b[0m: list index out of range"
     ]
    }
   ],
   "source": [
    "open_file = file_names[28]\n",
    "print(open_file)"
   ]
  },
  {
   "cell_type": "code",
   "execution_count": 178,
   "metadata": {},
   "outputs": [],
   "source": [
    "txt_file = open(root_dir + open_file)\n",
    "file_name = (open_file.split('.'))"
   ]
  },
  {
   "cell_type": "code",
   "execution_count": 179,
   "metadata": {},
   "outputs": [],
   "source": [
    "with open(str(str(root_dir) + open_file +'.csv' ), 'w') as file:\n",
    "    writer = csv.writer(file)\n",
    "    line = txt_file.readline().rstrip().split()\n",
    "    while (len(line) != 0):\n",
    "        writer.writerow(line)\n",
    "        line = txt_file.readline().rstrip().split()"
   ]
  },
  {
   "cell_type": "code",
   "execution_count": 180,
   "metadata": {},
   "outputs": [],
   "source": [
    "import pandas as pd \n",
    "df = pd.read_csv(str(root_dir) + open_file +'.csv')"
   ]
  },
  {
   "cell_type": "code",
   "execution_count": 181,
   "metadata": {},
   "outputs": [
    {
     "data": {
      "text/html": [
       "<div>\n",
       "<style scoped>\n",
       "    .dataframe tbody tr th:only-of-type {\n",
       "        vertical-align: middle;\n",
       "    }\n",
       "\n",
       "    .dataframe tbody tr th {\n",
       "        vertical-align: top;\n",
       "    }\n",
       "\n",
       "    .dataframe thead th {\n",
       "        text-align: right;\n",
       "    }\n",
       "</style>\n",
       "<table border=\"1\" class=\"dataframe\">\n",
       "  <thead>\n",
       "    <tr style=\"text-align: right;\">\n",
       "      <th></th>\n",
       "      <th>user_id</th>\n",
       "      <th>original_image</th>\n",
       "      <th>face_id</th>\n",
       "      <th>age</th>\n",
       "      <th>gender</th>\n",
       "      <th>x</th>\n",
       "      <th>y</th>\n",
       "      <th>dx</th>\n",
       "      <th>dy</th>\n",
       "      <th>tilt_ang</th>\n",
       "      <th>fiducial_yaw_angle</th>\n",
       "      <th>fiducial_score</th>\n",
       "    </tr>\n",
       "  </thead>\n",
       "  <tbody>\n",
       "    <tr>\n",
       "      <th>113445054@N07</th>\n",
       "      <td>11763777465_11d01c34ce_o.jpg</td>\n",
       "      <td>1322</td>\n",
       "      <td>(25,</td>\n",
       "      <td>32)</td>\n",
       "      <td>m</td>\n",
       "      <td>1102</td>\n",
       "      <td>296</td>\n",
       "      <td>357</td>\n",
       "      <td>357</td>\n",
       "      <td>-15</td>\n",
       "      <td>0.0</td>\n",
       "      <td>59.0</td>\n",
       "    </tr>\n",
       "    <tr>\n",
       "      <th>113445054@N07</th>\n",
       "      <td>11763777465_11d01c34ce_o.jpg</td>\n",
       "      <td>1323</td>\n",
       "      <td>(25,</td>\n",
       "      <td>32)</td>\n",
       "      <td>f</td>\n",
       "      <td>1713</td>\n",
       "      <td>580</td>\n",
       "      <td>325</td>\n",
       "      <td>325</td>\n",
       "      <td>-5</td>\n",
       "      <td>0.0</td>\n",
       "      <td>118.0</td>\n",
       "    </tr>\n",
       "    <tr>\n",
       "      <th>113445054@N07</th>\n",
       "      <td>11763777465_11d01c34ce_o.jpg</td>\n",
       "      <td>1324</td>\n",
       "      <td>(15,</td>\n",
       "      <td>20)</td>\n",
       "      <td>f</td>\n",
       "      <td>1437</td>\n",
       "      <td>664</td>\n",
       "      <td>306</td>\n",
       "      <td>306</td>\n",
       "      <td>5</td>\n",
       "      <td>0.0</td>\n",
       "      <td>109.0</td>\n",
       "    </tr>\n",
       "    <tr>\n",
       "      <th>113445054@N07</th>\n",
       "      <td>11763728674_a41d99f71e_o.jpg</td>\n",
       "      <td>1326</td>\n",
       "      <td>(25,</td>\n",
       "      <td>32)</td>\n",
       "      <td>m</td>\n",
       "      <td>1745</td>\n",
       "      <td>910</td>\n",
       "      <td>242</td>\n",
       "      <td>242</td>\n",
       "      <td>-10</td>\n",
       "      <td>0.0</td>\n",
       "      <td>55.0</td>\n",
       "    </tr>\n",
       "    <tr>\n",
       "      <th>113445054@N07</th>\n",
       "      <td>11763616596_db19dbce85_o.jpg</td>\n",
       "      <td>1329</td>\n",
       "      <td>34</td>\n",
       "      <td>m</td>\n",
       "      <td>803</td>\n",
       "      <td>854</td>\n",
       "      <td>612</td>\n",
       "      <td>612</td>\n",
       "      <td>5</td>\n",
       "      <td>0</td>\n",
       "      <td>20.0</td>\n",
       "      <td>NaN</td>\n",
       "    </tr>\n",
       "  </tbody>\n",
       "</table>\n",
       "</div>"
      ],
      "text/plain": [
       "                                    user_id  original_image face_id  age  \\\n",
       "113445054@N07  11763777465_11d01c34ce_o.jpg            1322    (25,  32)   \n",
       "113445054@N07  11763777465_11d01c34ce_o.jpg            1323    (25,  32)   \n",
       "113445054@N07  11763777465_11d01c34ce_o.jpg            1324    (15,  20)   \n",
       "113445054@N07  11763728674_a41d99f71e_o.jpg            1326    (25,  32)   \n",
       "113445054@N07  11763616596_db19dbce85_o.jpg            1329      34    m   \n",
       "\n",
       "              gender     x    y   dx   dy  tilt_ang  fiducial_yaw_angle  \\\n",
       "113445054@N07      m  1102  296  357  357       -15                 0.0   \n",
       "113445054@N07      f  1713  580  325  325        -5                 0.0   \n",
       "113445054@N07      f  1437  664  306  306         5                 0.0   \n",
       "113445054@N07      m  1745  910  242  242       -10                 0.0   \n",
       "113445054@N07    803   854  612  612    5         0                20.0   \n",
       "\n",
       "               fiducial_score  \n",
       "113445054@N07            59.0  \n",
       "113445054@N07           118.0  \n",
       "113445054@N07           109.0  \n",
       "113445054@N07            55.0  \n",
       "113445054@N07             NaN  "
      ]
     },
     "execution_count": 181,
     "metadata": {},
     "output_type": "execute_result"
    }
   ],
   "source": [
    "df.head()"
   ]
  },
  {
   "cell_type": "code",
   "execution_count": 144,
   "metadata": {},
   "outputs": [],
   "source": [
    "tmp = open(str(root_dir + 'untitled.txt'))"
   ]
  },
  {
   "cell_type": "code",
   "execution_count": 56,
   "metadata": {},
   "outputs": [
    {
     "data": {
      "text/plain": [
       "0"
      ]
     },
     "execution_count": 56,
     "metadata": {},
     "output_type": "execute_result"
    }
   ],
   "source": [
    "len(tmp.readline().rstrip().split())"
   ]
  },
  {
   "cell_type": "code",
   "execution_count": 11,
   "metadata": {},
   "outputs": [
    {
     "data": {
      "text/plain": [
       "1714.625"
      ]
     },
     "execution_count": 11,
     "metadata": {},
     "output_type": "execute_result"
    }
   ],
   "source": [
    "13717/8"
   ]
  },
  {
   "cell_type": "code",
   "execution_count": 8,
   "metadata": {},
   "outputs": [],
   "source": [
    "import pandas as pd"
   ]
  },
  {
   "cell_type": "code",
   "execution_count": 9,
   "metadata": {},
   "outputs": [],
   "source": [
    "df = pd.read_csv(\"train_faces_concactenated_data_with_path_with_age_range.csv\")"
   ]
  },
  {
   "cell_type": "code",
   "execution_count": 10,
   "metadata": {},
   "outputs": [
    {
     "data": {
      "text/plain": [
       "(13717, 16)"
      ]
     },
     "execution_count": 10,
     "metadata": {},
     "output_type": "execute_result"
    }
   ],
   "source": [
    "df.shape"
   ]
  },
  {
   "cell_type": "code",
   "execution_count": 1,
   "metadata": {},
   "outputs": [
    {
     "data": {
      "text/plain": [
       "4.0"
      ]
     },
     "execution_count": 1,
     "metadata": {},
     "output_type": "execute_result"
    }
   ],
   "source": [
    "32/8"
   ]
  },
  {
   "cell_type": "code",
   "execution_count": null,
   "metadata": {},
   "outputs": [],
   "source": []
  }
 ],
 "metadata": {
  "kernelspec": {
   "display_name": "Python 3",
   "language": "python",
   "name": "python3"
  },
  "language_info": {
   "codemirror_mode": {
    "name": "ipython",
    "version": 3
   },
   "file_extension": ".py",
   "mimetype": "text/x-python",
   "name": "python",
   "nbconvert_exporter": "python",
   "pygments_lexer": "ipython3",
   "version": "3.7.6"
  }
 },
 "nbformat": 4,
 "nbformat_minor": 4
}
