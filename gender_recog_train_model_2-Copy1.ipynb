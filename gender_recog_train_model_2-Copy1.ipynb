{
 "cells": [
  {
   "cell_type": "code",
   "execution_count": 1,
   "metadata": {},
   "outputs": [
    {
     "name": "stderr",
     "output_type": "stream",
     "text": [
      "Using TensorFlow backend.\n"
     ]
    }
   ],
   "source": [
    "import pandas as pd\n",
    "import logging\n",
    "import argparse\n",
    "from pathlib import Path\n",
    "import numpy as np\n",
    "from keras.callbacks import LearningRateScheduler, ModelCheckpoint\n",
    "from keras.optimizers import SGD, Adam\n",
    "from keras.utils import np_utils\n",
    "#from wide_resnet import WideResNet\n",
    "from utils import load_data\n",
    "from keras.preprocessing.image import ImageDataGenerator\n",
    "from mixup_generator import MixupGenerator\n",
    "from random_eraser import get_random_eraser\n",
    "from PIL import Image\n",
    "\n",
    "\n",
    "\n",
    "import pandas as pd\n",
    "import os\n",
    "from PIL import Image\n",
    "import numpy as np\n",
    "from numpy import save, load\n",
    "from keras.callbacks import ModelCheckpoint, LearningRateScheduler, EarlyStopping, ReduceLROnPlateau, TensorBoard\n",
    "from keras import optimizers, losses, activations, models\n",
    "from keras.layers import Convolution2D, Dense, Input, Flatten, Dropout, MaxPooling2D, BatchNormalization, \\\n",
    "    GlobalMaxPool2D, Concatenate, GlobalMaxPooling2D, GlobalAveragePooling2D, Lambda\n",
    "from keras.applications.resnet50 import ResNet50\n",
    "from keras.preprocessing.image import ImageDataGenerator\n",
    "from keras.models import Model, load_model\n",
    "from sklearn.model_selection import train_test_split\n",
    "from sklearn.metrics import accuracy_score\n",
    "from keras import backend as K\n",
    "\n",
    "\n",
    "from tqdm import tqdm\n",
    "from collections import Counter"
   ]
  },
  {
   "cell_type": "code",
   "execution_count": 2,
   "metadata": {},
   "outputs": [],
   "source": [
    "logging.basicConfig(level=logging.DEBUG)"
   ]
  },
  {
   "cell_type": "code",
   "execution_count": 3,
   "metadata": {},
   "outputs": [],
   "source": [
    "# input_path = \"./Dataset-copy/imdb_faces/imdb_db.mat\"\n",
    "# image, gender, age, _, image_size, _ = load_data(input_path)"
   ]
  },
  {
   "cell_type": "code",
   "execution_count": 4,
   "metadata": {},
   "outputs": [],
   "source": [
    "def read_and_resize(filepath, input_shape=(256, 256)):\n",
    "    im = Image.open((filepath)).convert('RGB')\n",
    "    im = im.resize(input_shape)\n",
    "    im_array = np.array(im, dtype=\"uint8\")#[..., ::-1]\n",
    "    return np.array(im_array / (np.max(im_array)+ 0.001), dtype=\"float32\")"
   ]
  },
  {
   "cell_type": "code",
   "execution_count": 5,
   "metadata": {},
   "outputs": [],
   "source": [
    "datagen = ImageDataGenerator(\n",
    "    rotation_range=20,\n",
    "    width_shift_range=0.1,\n",
    "    height_shift_range=0.1,\n",
    "    horizontal_flip=True,\n",
    "    brightness_range=[0.2,1.5],\n",
    "    zoom_range=0.2)"
   ]
  },
  {
   "cell_type": "code",
   "execution_count": 6,
   "metadata": {},
   "outputs": [],
   "source": [
    "def augment(im_array):\n",
    "    im_array = datagen.random_transform(im_array)\n",
    "    return im_array"
   ]
  },
  {
   "cell_type": "code",
   "execution_count": 7,
   "metadata": {},
   "outputs": [],
   "source": [
    "def gen(df, batch_size=8, aug=False):\n",
    "    df = df.sample(frac=1)\n",
    "\n",
    "    dict_age = {'(0, 2)' : 0,\n",
    "                '(3, 5)' : 1,\n",
    "                '(6, 10)' : 2,\n",
    "                '(11, 15)' : 3,\n",
    "                '(16, 20)' : 4,\n",
    "                '(21, 30)' : 5,\n",
    "                '(31, 40)' : 6,\n",
    "                '(41, 50)' : 7,\n",
    "                '(51, 60)' : 8,\n",
    "                '(61, 70)' : 9,\n",
    "                '(71, 80)' : 10,\n",
    "                 '(81, 90)' : 11,\n",
    "                 '(91, 100)' : 12}\n",
    "\n",
    "    while True:\n",
    "        for i, batch in enumerate([df[i:i+batch_size] for i in range(0,df.shape[0],batch_size)]):\n",
    "            if aug:\n",
    "                images = np.array([augment(read_and_resize(file_path)) for file_path in batch.path.values])\n",
    "            else:\n",
    "                images = np.array([read_and_resize(file_path) for file_path in batch.path.values])\n",
    "\n",
    "\n",
    "            #labels = np.array([dict_age[g] for g in batch.out_ages.values])\n",
    "            labels = np.array(batch.out_ages.values)\n",
    "\n",
    "            labels = labels[..., np.newaxis]\n",
    "\n",
    "            yield images, labels"
   ]
  },
  {
   "cell_type": "code",
   "execution_count": 8,
   "metadata": {},
   "outputs": [
    {
     "name": "stdout",
     "output_type": "stream",
     "text": [
      "WARNING:tensorflow:From /home/vamsik1211/ML/lib/python3.7/site-packages/tensorflow_core/python/ops/resource_variable_ops.py:1630: calling BaseResourceVariable.__init__ (from tensorflow.python.ops.resource_variable_ops) with constraint is deprecated and will be removed in a future version.\n",
      "Instructions for updating:\n",
      "If using Keras pass *_constraint arguments to layers.\n"
     ]
    },
    {
     "name": "stderr",
     "output_type": "stream",
     "text": [
      "WARNING:tensorflow:From /home/vamsik1211/ML/lib/python3.7/site-packages/tensorflow_core/python/ops/resource_variable_ops.py:1630: calling BaseResourceVariable.__init__ (from tensorflow.python.ops.resource_variable_ops) with constraint is deprecated and will be removed in a future version.\n",
      "Instructions for updating:\n",
      "If using Keras pass *_constraint arguments to layers.\n"
     ]
    }
   ],
   "source": [
    "optimizer = Adam(lr=0.1)"
   ]
  },
  {
   "cell_type": "code",
   "execution_count": 9,
   "metadata": {},
   "outputs": [],
   "source": [
    "def get_model(n_classes=1):\n",
    "\n",
    "    base_model = ResNet50(weights=\"./resnet50_weights_tf_dim_ordering_tf_kernels_notop.h5\", include_top=False)\n",
    "\n",
    "    #for layer in base_model.layers:\n",
    "    #    layer.trainable = False\n",
    "\n",
    "    x = base_model.output\n",
    "    x = GlobalMaxPooling2D()(x)\n",
    "    x = Dropout(0.5)(x)\n",
    "    x = Dense(100, activation=\"relu\")(x)\n",
    "    x = Dropout(0.5)(x)\n",
    "    if n_classes == 1:\n",
    "        x = Dense(n_classes, activation=\"sigmoid\")(x)\n",
    "    else:\n",
    "        x = Dense(n_classes, activation=\"softmax\")(x)\n",
    "\n",
    "    base_model = Model(base_model.input, x, name=\"base_model\")\n",
    "    if n_classes == 1:\n",
    "        base_model.compile(loss=\"binary_crossentropy\", metrics=['acc'], optimizer=optimizer)\n",
    "    else:\n",
    "        base_model.compile(loss=\"sparse_categorical_crossentropy\", metrics=['acc'], optimizer=optimizer)\n",
    "\n",
    "    return base_model"
   ]
  },
  {
   "cell_type": "code",
   "execution_count": 12,
   "metadata": {
    "jupyter": {
     "source_hidden": true
    }
   },
   "outputs": [
    {
     "name": "stdout",
     "output_type": "stream",
     "text": [
      "Reading train and test CSV files \n",
      "Reading Done.\n",
      "Generating callback_list\n",
      "Done Generating callbacklist.\n",
      "generating Model\n"
     ]
    },
    {
     "name": "stderr",
     "output_type": "stream",
     "text": [
      "/home/vamsik1211/ML/lib/python3.7/site-packages/keras_applications/resnet50.py:265: UserWarning: The output shape of `ResNet50(include_top=False)` has been changed since Keras 2.2.0.\n",
      "  warnings.warn('The output shape of `ResNet50(include_top=False)` '\n"
     ]
    },
    {
     "name": "stdout",
     "output_type": "stream",
     "text": [
      "Done generating model\n",
      "Running Fit_generator\n",
      "Epoch 1/200\n",
      "500/500 [==============================] - 206s 412ms/step - loss: 81.1553 - acc: 0.3030 - val_loss: 1.9278 - val_acc: 0.2700\n",
      "\n",
      "Epoch 00001: val_acc improved from -inf to 0.27000, saving model to imdb_age_recog_weights.h5\n",
      "Epoch 2/200\n",
      "500/500 [==============================] - 195s 390ms/step - loss: 1.9507 - acc: 0.3063 - val_loss: 1.7515 - val_acc: 0.3175\n",
      "\n",
      "Epoch 00002: val_acc improved from 0.27000 to 0.31750, saving model to imdb_age_recog_weights.h5\n",
      "Epoch 3/200\n",
      "500/500 [==============================] - 194s 389ms/step - loss: 1.7997 - acc: 0.3005 - val_loss: 1.5996 - val_acc: 0.3050\n",
      "\n",
      "Epoch 00003: val_acc did not improve from 0.31750\n",
      "Epoch 4/200\n",
      "500/500 [==============================] - 194s 389ms/step - loss: 1.7486 - acc: 0.3113 - val_loss: 1.6611 - val_acc: 0.3050\n",
      "\n",
      "Epoch 00004: val_acc did not improve from 0.31750\n",
      "Epoch 5/200\n",
      "500/500 [==============================] - 202s 404ms/step - loss: 1.9354 - acc: 0.3195 - val_loss: 1.4600 - val_acc: 0.3200\n",
      "\n",
      "Epoch 00005: val_acc improved from 0.31750 to 0.32000, saving model to imdb_age_recog_weights.h5\n",
      "Epoch 6/200\n",
      "500/500 [==============================] - 201s 403ms/step - loss: 2.0389 - acc: 0.2930 - val_loss: 1.5333 - val_acc: 0.3200\n",
      "\n",
      "Epoch 00006: val_acc did not improve from 0.32000\n",
      "Epoch 7/200\n",
      "500/500 [==============================] - 194s 388ms/step - loss: 1.7776 - acc: 0.3128 - val_loss: 2.2136 - val_acc: 0.3250\n",
      "\n",
      "Epoch 00007: val_acc improved from 0.32000 to 0.32500, saving model to imdb_age_recog_weights.h5\n",
      "Epoch 8/200\n",
      "500/500 [==============================] - 196s 391ms/step - loss: 1.7679 - acc: 0.2990 - val_loss: 1.3690 - val_acc: 0.3425\n",
      "\n",
      "Epoch 00008: val_acc improved from 0.32500 to 0.34250, saving model to imdb_age_recog_weights.h5\n",
      "Epoch 9/200\n",
      "500/500 [==============================] - 194s 387ms/step - loss: 1.8322 - acc: 0.3295 - val_loss: 2.0964 - val_acc: 0.3300\n",
      "\n",
      "Epoch 00009: val_acc did not improve from 0.34250\n",
      "Epoch 10/200\n",
      "500/500 [==============================] - 194s 388ms/step - loss: 2.1388 - acc: 0.3113 - val_loss: 2.0928 - val_acc: 0.3600\n",
      "\n",
      "Epoch 00010: val_acc improved from 0.34250 to 0.36000, saving model to imdb_age_recog_weights.h5\n",
      "Epoch 11/200\n",
      "500/500 [==============================] - 194s 388ms/step - loss: 1.7132 - acc: 0.3043 - val_loss: 2.2396 - val_acc: 0.3150\n",
      "\n",
      "Epoch 00011: val_acc did not improve from 0.36000\n",
      "\n",
      "Epoch 00011: ReduceLROnPlateau reducing learning rate to 0.010000000149011612.\n",
      "Epoch 12/200\n",
      "500/500 [==============================] - 194s 388ms/step - loss: 1.7152 - acc: 0.3070 - val_loss: 1.6242 - val_acc: 0.3200\n",
      "\n",
      "Epoch 00012: val_acc did not improve from 0.36000\n",
      "Epoch 13/200\n",
      "500/500 [==============================] - 194s 388ms/step - loss: 1.7219 - acc: 0.3085 - val_loss: 1.5190 - val_acc: 0.3125\n",
      "\n",
      "Epoch 00013: val_acc did not improve from 0.36000\n",
      "Epoch 14/200\n",
      "500/500 [==============================] - 194s 388ms/step - loss: 1.7245 - acc: 0.3043 - val_loss: 1.5455 - val_acc: 0.3075\n",
      "\n",
      "Epoch 00014: val_acc did not improve from 0.36000\n",
      "\n",
      "Epoch 00014: ReduceLROnPlateau reducing learning rate to 0.0009999999776482583.\n",
      "Epoch 15/200\n",
      "500/500 [==============================] - 194s 387ms/step - loss: 1.7158 - acc: 0.3220 - val_loss: 2.3550 - val_acc: 0.2800\n",
      "\n",
      "Epoch 00015: val_acc did not improve from 0.36000\n",
      "Epoch 16/200\n",
      "500/500 [==============================] - 194s 387ms/step - loss: 1.6935 - acc: 0.3343 - val_loss: 1.8308 - val_acc: 0.3150\n",
      "\n",
      "Epoch 00016: val_acc did not improve from 0.36000\n",
      "Epoch 17/200\n",
      "500/500 [==============================] - 193s 386ms/step - loss: 1.7161 - acc: 0.3262 - val_loss: 1.3507 - val_acc: 0.3300\n",
      "\n",
      "Epoch 00017: val_acc did not improve from 0.36000\n",
      "Epoch 18/200\n",
      "500/500 [==============================] - 192s 385ms/step - loss: 1.7230 - acc: 0.3075 - val_loss: 1.8618 - val_acc: 0.3175\n",
      "\n",
      "Epoch 00018: val_acc did not improve from 0.36000\n",
      "Epoch 19/200\n",
      "500/500 [==============================] - 192s 385ms/step - loss: 1.6945 - acc: 0.3232 - val_loss: 2.0829 - val_acc: 0.3350\n",
      "\n",
      "Epoch 00019: val_acc did not improve from 0.36000\n",
      "Epoch 20/200\n",
      "500/500 [==============================] - 193s 385ms/step - loss: 1.7278 - acc: 0.3183 - val_loss: 1.2165 - val_acc: 0.3400\n",
      "\n",
      "Epoch 00020: val_acc did not improve from 0.36000\n",
      "Epoch 21/200\n",
      "500/500 [==============================] - 193s 385ms/step - loss: 1.7200 - acc: 0.3250 - val_loss: 2.2438 - val_acc: 0.3300\n",
      "\n",
      "Epoch 00021: val_acc did not improve from 0.36000\n",
      "Epoch 22/200\n",
      "500/500 [==============================] - 193s 385ms/step - loss: 1.7102 - acc: 0.3255 - val_loss: 1.7165 - val_acc: 0.3125\n",
      "\n",
      "Epoch 00022: val_acc did not improve from 0.36000\n",
      "Epoch 23/200\n",
      "500/500 [==============================] - 193s 385ms/step - loss: 1.7323 - acc: 0.3212 - val_loss: 1.6784 - val_acc: 0.3425\n",
      "\n",
      "Epoch 00023: val_acc did not improve from 0.36000\n",
      "\n",
      "Epoch 00023: ReduceLROnPlateau reducing learning rate to 9.999999310821295e-05.\n",
      "Epoch 24/200\n",
      "500/500 [==============================] - 192s 385ms/step - loss: 1.7086 - acc: 0.3290 - val_loss: 1.6209 - val_acc: 0.3500\n",
      "\n",
      "Epoch 00024: val_acc did not improve from 0.36000\n",
      "Epoch 25/200\n",
      "500/500 [==============================] - 192s 385ms/step - loss: 1.7246 - acc: 0.3210 - val_loss: 2.2094 - val_acc: 0.2950\n",
      "\n",
      "Epoch 00025: val_acc did not improve from 0.36000\n",
      "Epoch 26/200\n",
      "500/500 [==============================] - 192s 384ms/step - loss: 1.7049 - acc: 0.3265 - val_loss: 1.2643 - val_acc: 0.2850\n",
      "\n",
      "Epoch 00026: val_acc did not improve from 0.36000\n",
      "\n",
      "Epoch 00026: ReduceLROnPlateau reducing learning rate to 1e-05.\n",
      "Epoch 27/200\n",
      "500/500 [==============================] - 192s 385ms/step - loss: 1.7305 - acc: 0.3142 - val_loss: 1.7334 - val_acc: 0.3125\n",
      "\n",
      "Epoch 00027: val_acc did not improve from 0.36000\n",
      "Epoch 28/200\n",
      "500/500 [==============================] - 192s 385ms/step - loss: 1.7004 - acc: 0.3217 - val_loss: 1.9686 - val_acc: 0.3025\n",
      "\n",
      "Epoch 00028: val_acc did not improve from 0.36000\n",
      "Epoch 29/200\n",
      "500/500 [==============================] - 197s 393ms/step - loss: 1.7254 - acc: 0.3162 - val_loss: 1.5769 - val_acc: 0.3050\n",
      "\n",
      "Epoch 00029: val_acc did not improve from 0.36000\n",
      "Epoch 30/200\n",
      "500/500 [==============================] - 192s 385ms/step - loss: 1.7113 - acc: 0.3142 - val_loss: 1.3315 - val_acc: 0.3075\n",
      "\n",
      "Epoch 00030: val_acc did not improve from 0.36000\n",
      "Epoch 31/200\n",
      "500/500 [==============================] - 192s 385ms/step - loss: 1.7099 - acc: 0.3265 - val_loss: 1.8612 - val_acc: 0.3675\n",
      "\n",
      "Epoch 00031: val_acc improved from 0.36000 to 0.36750, saving model to imdb_age_recog_weights.h5\n",
      "Epoch 32/200\n",
      "500/500 [==============================] - 193s 385ms/step - loss: 1.6927 - acc: 0.3320 - val_loss: 1.3314 - val_acc: 0.2875\n",
      "\n",
      "Epoch 00032: val_acc did not improve from 0.36750\n",
      "Epoch 33/200\n",
      "500/500 [==============================] - 193s 385ms/step - loss: 1.7157 - acc: 0.3243 - val_loss: 1.5439 - val_acc: 0.3125\n",
      "\n",
      "Epoch 00033: val_acc did not improve from 0.36750\n",
      "Epoch 34/200\n",
      "500/500 [==============================] - 192s 385ms/step - loss: 1.7176 - acc: 0.3210 - val_loss: 1.4989 - val_acc: 0.3425\n",
      "\n",
      "Epoch 00034: val_acc did not improve from 0.36750\n",
      "Epoch 35/200\n",
      "500/500 [==============================] - 192s 385ms/step - loss: 1.7123 - acc: 0.3190 - val_loss: 2.1829 - val_acc: 0.3025\n",
      "\n",
      "Epoch 00035: val_acc did not improve from 0.36750\n",
      "Epoch 36/200\n",
      "500/500 [==============================] - 193s 385ms/step - loss: 1.7301 - acc: 0.3210 - val_loss: 1.8718 - val_acc: 0.3425\n",
      "\n",
      "Epoch 00036: val_acc did not improve from 0.36750\n",
      "Epoch 37/200\n",
      "500/500 [==============================] - 193s 385ms/step - loss: 1.7286 - acc: 0.3240 - val_loss: 1.5112 - val_acc: 0.2950\n",
      "\n",
      "Epoch 00037: val_acc did not improve from 0.36750\n",
      "Epoch 38/200\n",
      "500/500 [==============================] - 192s 385ms/step - loss: 1.6987 - acc: 0.3187 - val_loss: 1.7181 - val_acc: 0.3200\n",
      "\n",
      "Epoch 00038: val_acc did not improve from 0.36750\n",
      "Epoch 39/200\n",
      "500/500 [==============================] - 193s 387ms/step - loss: 1.7088 - acc: 0.3215 - val_loss: 1.9580 - val_acc: 0.3400\n",
      "\n",
      "Epoch 00039: val_acc did not improve from 0.36750\n",
      "Epoch 40/200\n",
      "500/500 [==============================] - 192s 385ms/step - loss: 1.7194 - acc: 0.3240 - val_loss: 1.3752 - val_acc: 0.3350\n",
      "\n",
      "Epoch 00040: val_acc did not improve from 0.36750\n",
      "Epoch 41/200\n",
      "500/500 [==============================] - 192s 385ms/step - loss: 1.7049 - acc: 0.3200 - val_loss: 1.7414 - val_acc: 0.3225\n",
      "\n",
      "Epoch 00041: val_acc did not improve from 0.36750\n",
      "Epoch 42/200\n",
      "500/500 [==============================] - 192s 385ms/step - loss: 1.7238 - acc: 0.3142 - val_loss: 1.4769 - val_acc: 0.3250\n",
      "\n",
      "Epoch 00042: val_acc did not improve from 0.36750\n",
      "Epoch 43/200\n",
      "500/500 [==============================] - 193s 385ms/step - loss: 1.7334 - acc: 0.3207 - val_loss: 1.3984 - val_acc: 0.2919\n",
      "\n",
      "Epoch 00043: val_acc did not improve from 0.36750\n",
      "Epoch 44/200\n",
      "500/500 [==============================] - 193s 385ms/step - loss: 1.7082 - acc: 0.3282 - val_loss: 1.5884 - val_acc: 0.3125\n",
      "\n",
      "Epoch 00044: val_acc did not improve from 0.36750\n",
      "Epoch 45/200\n",
      "500/500 [==============================] - 192s 385ms/step - loss: 1.7015 - acc: 0.3150 - val_loss: 1.6445 - val_acc: 0.3150\n",
      "\n",
      "Epoch 00045: val_acc did not improve from 0.36750\n",
      "Epoch 46/200\n",
      "500/500 [==============================] - 192s 385ms/step - loss: 1.7213 - acc: 0.3212 - val_loss: 1.7710 - val_acc: 0.3050\n",
      "\n",
      "Epoch 00046: val_acc did not improve from 0.36750\n",
      "Epoch 47/200\n",
      "500/500 [==============================] - 192s 385ms/step - loss: 1.7287 - acc: 0.3125 - val_loss: 1.8467 - val_acc: 0.3175\n",
      "\n",
      "Epoch 00047: val_acc did not improve from 0.36750\n",
      "Epoch 48/200\n",
      "500/500 [==============================] - 192s 385ms/step - loss: 1.7150 - acc: 0.3410 - val_loss: 1.7341 - val_acc: 0.3225\n",
      "\n",
      "Epoch 00048: val_acc did not improve from 0.36750\n",
      "Epoch 49/200\n",
      "500/500 [==============================] - 192s 385ms/step - loss: 1.6846 - acc: 0.3265 - val_loss: 1.8745 - val_acc: 0.3150\n",
      "\n",
      "Epoch 00049: val_acc did not improve from 0.36750\n",
      "Epoch 50/200\n",
      "500/500 [==============================] - 192s 385ms/step - loss: 1.6997 - acc: 0.3332 - val_loss: 1.2200 - val_acc: 0.3375\n",
      "\n",
      "Epoch 00050: val_acc did not improve from 0.36750\n",
      "Epoch 51/200\n",
      "500/500 [==============================] - 192s 385ms/step - loss: 1.7222 - acc: 0.3055 - val_loss: 1.8686 - val_acc: 0.3300\n",
      "\n",
      "Epoch 00051: val_acc did not improve from 0.36750\n",
      "Epoch 52/200\n",
      "500/500 [==============================] - 192s 385ms/step - loss: 1.7184 - acc: 0.3022 - val_loss: 1.2423 - val_acc: 0.3400\n",
      "\n",
      "Epoch 00052: val_acc did not improve from 0.36750\n",
      "Epoch 53/200\n",
      "500/500 [==============================] - 192s 385ms/step - loss: 1.7249 - acc: 0.3270 - val_loss: 2.1406 - val_acc: 0.3550\n",
      "\n",
      "Epoch 00053: val_acc did not improve from 0.36750\n",
      "Epoch 54/200\n",
      "500/500 [==============================] - 193s 385ms/step - loss: 1.7016 - acc: 0.3298 - val_loss: 2.4630 - val_acc: 0.3125\n",
      "\n",
      "Epoch 00054: val_acc did not improve from 0.36750\n",
      "Epoch 55/200\n",
      "500/500 [==============================] - 193s 385ms/step - loss: 1.7042 - acc: 0.3330 - val_loss: 2.2623 - val_acc: 0.3150\n",
      "\n",
      "Epoch 00055: val_acc did not improve from 0.36750\n",
      "Epoch 56/200\n",
      "500/500 [==============================] - 193s 385ms/step - loss: 1.7190 - acc: 0.3137 - val_loss: 1.4987 - val_acc: 0.3175\n",
      "\n",
      "Epoch 00056: val_acc did not improve from 0.36750\n",
      "Epoch 57/200\n",
      "500/500 [==============================] - 193s 386ms/step - loss: 1.7123 - acc: 0.3067 - val_loss: 1.3095 - val_acc: 0.3125\n",
      "\n",
      "Epoch 00057: val_acc did not improve from 0.36750\n",
      "Epoch 58/200\n",
      "500/500 [==============================] - 193s 386ms/step - loss: 1.7052 - acc: 0.3275 - val_loss: 1.8794 - val_acc: 0.2725\n",
      "\n",
      "Epoch 00058: val_acc did not improve from 0.36750\n",
      "Epoch 59/200\n",
      "500/500 [==============================] - 193s 385ms/step - loss: 1.7313 - acc: 0.3195 - val_loss: 2.0432 - val_acc: 0.3125\n",
      "\n",
      "Epoch 00059: val_acc did not improve from 0.36750\n",
      "Epoch 60/200\n",
      "346/500 [===================>..........] - ETA: 57s - loss: 1.7066 - acc: 0.3291"
     ]
    },
    {
     "ename": "KeyboardInterrupt",
     "evalue": "",
     "output_type": "error",
     "traceback": [
      "\u001b[0;31m---------------------------------------------------------------------------\u001b[0m",
      "\u001b[0;31mKeyboardInterrupt\u001b[0m                         Traceback (most recent call last)",
      "\u001b[0;32m<ipython-input-12-25e24fda382a>\u001b[0m in \u001b[0;36m<module>\u001b[0;34m\u001b[0m\n\u001b[1;32m     66\u001b[0m                         \u001b[0mcallbacks\u001b[0m\u001b[0;34m=\u001b[0m\u001b[0mcallbacks_list\u001b[0m\u001b[0;34m,\u001b[0m\u001b[0;34m\u001b[0m\u001b[0;34m\u001b[0m\u001b[0m\n\u001b[1;32m     67\u001b[0m                         \u001b[0msteps_per_epoch\u001b[0m\u001b[0;34m=\u001b[0m\u001b[0;36m500\u001b[0m\u001b[0;34m,\u001b[0m\u001b[0;31m#int(10740.75),\u001b[0m\u001b[0;34m\u001b[0m\u001b[0;34m\u001b[0m\u001b[0m\n\u001b[0;32m---> 68\u001b[0;31m                         \u001b[0mvalidation_steps\u001b[0m\u001b[0;34m=\u001b[0m\u001b[0;36m50\u001b[0m\u001b[0;34m,\u001b[0m\u001b[0;34m\u001b[0m\u001b[0;34m\u001b[0m\u001b[0m\n\u001b[0m\u001b[1;32m     69\u001b[0m                         \u001b[0;31m#use_multiprocessing=True\u001b[0m\u001b[0;34m\u001b[0m\u001b[0;34m\u001b[0m\u001b[0;34m\u001b[0m\u001b[0m\n\u001b[1;32m     70\u001b[0m                        )\n",
      "\u001b[0;32m~/ML/lib/python3.7/site-packages/keras/legacy/interfaces.py\u001b[0m in \u001b[0;36mwrapper\u001b[0;34m(*args, **kwargs)\u001b[0m\n\u001b[1;32m     89\u001b[0m                 warnings.warn('Update your `' + object_name + '` call to the ' +\n\u001b[1;32m     90\u001b[0m                               'Keras 2 API: ' + signature, stacklevel=2)\n\u001b[0;32m---> 91\u001b[0;31m             \u001b[0;32mreturn\u001b[0m \u001b[0mfunc\u001b[0m\u001b[0;34m(\u001b[0m\u001b[0;34m*\u001b[0m\u001b[0margs\u001b[0m\u001b[0;34m,\u001b[0m \u001b[0;34m**\u001b[0m\u001b[0mkwargs\u001b[0m\u001b[0;34m)\u001b[0m\u001b[0;34m\u001b[0m\u001b[0;34m\u001b[0m\u001b[0m\n\u001b[0m\u001b[1;32m     92\u001b[0m         \u001b[0mwrapper\u001b[0m\u001b[0;34m.\u001b[0m\u001b[0m_original_function\u001b[0m \u001b[0;34m=\u001b[0m \u001b[0mfunc\u001b[0m\u001b[0;34m\u001b[0m\u001b[0;34m\u001b[0m\u001b[0m\n\u001b[1;32m     93\u001b[0m         \u001b[0;32mreturn\u001b[0m \u001b[0mwrapper\u001b[0m\u001b[0;34m\u001b[0m\u001b[0;34m\u001b[0m\u001b[0m\n",
      "\u001b[0;32m~/ML/lib/python3.7/site-packages/keras/engine/training.py\u001b[0m in \u001b[0;36mfit_generator\u001b[0;34m(self, generator, steps_per_epoch, epochs, verbose, callbacks, validation_data, validation_steps, validation_freq, class_weight, max_queue_size, workers, use_multiprocessing, shuffle, initial_epoch)\u001b[0m\n\u001b[1;32m   1730\u001b[0m             \u001b[0muse_multiprocessing\u001b[0m\u001b[0;34m=\u001b[0m\u001b[0muse_multiprocessing\u001b[0m\u001b[0;34m,\u001b[0m\u001b[0;34m\u001b[0m\u001b[0;34m\u001b[0m\u001b[0m\n\u001b[1;32m   1731\u001b[0m             \u001b[0mshuffle\u001b[0m\u001b[0;34m=\u001b[0m\u001b[0mshuffle\u001b[0m\u001b[0;34m,\u001b[0m\u001b[0;34m\u001b[0m\u001b[0;34m\u001b[0m\u001b[0m\n\u001b[0;32m-> 1732\u001b[0;31m             initial_epoch=initial_epoch)\n\u001b[0m\u001b[1;32m   1733\u001b[0m \u001b[0;34m\u001b[0m\u001b[0m\n\u001b[1;32m   1734\u001b[0m     \u001b[0;34m@\u001b[0m\u001b[0minterfaces\u001b[0m\u001b[0;34m.\u001b[0m\u001b[0mlegacy_generator_methods_support\u001b[0m\u001b[0;34m\u001b[0m\u001b[0;34m\u001b[0m\u001b[0m\n",
      "\u001b[0;32m~/ML/lib/python3.7/site-packages/keras/engine/training_generator.py\u001b[0m in \u001b[0;36mfit_generator\u001b[0;34m(model, generator, steps_per_epoch, epochs, verbose, callbacks, validation_data, validation_steps, validation_freq, class_weight, max_queue_size, workers, use_multiprocessing, shuffle, initial_epoch)\u001b[0m\n\u001b[1;32m    218\u001b[0m                                             \u001b[0msample_weight\u001b[0m\u001b[0;34m=\u001b[0m\u001b[0msample_weight\u001b[0m\u001b[0;34m,\u001b[0m\u001b[0;34m\u001b[0m\u001b[0;34m\u001b[0m\u001b[0m\n\u001b[1;32m    219\u001b[0m                                             \u001b[0mclass_weight\u001b[0m\u001b[0;34m=\u001b[0m\u001b[0mclass_weight\u001b[0m\u001b[0;34m,\u001b[0m\u001b[0;34m\u001b[0m\u001b[0;34m\u001b[0m\u001b[0m\n\u001b[0;32m--> 220\u001b[0;31m                                             reset_metrics=False)\n\u001b[0m\u001b[1;32m    221\u001b[0m \u001b[0;34m\u001b[0m\u001b[0m\n\u001b[1;32m    222\u001b[0m                 \u001b[0mouts\u001b[0m \u001b[0;34m=\u001b[0m \u001b[0mto_list\u001b[0m\u001b[0;34m(\u001b[0m\u001b[0mouts\u001b[0m\u001b[0;34m)\u001b[0m\u001b[0;34m\u001b[0m\u001b[0;34m\u001b[0m\u001b[0m\n",
      "\u001b[0;32m~/ML/lib/python3.7/site-packages/keras/engine/training.py\u001b[0m in \u001b[0;36mtrain_on_batch\u001b[0;34m(self, x, y, sample_weight, class_weight, reset_metrics)\u001b[0m\n\u001b[1;32m   1512\u001b[0m             \u001b[0mins\u001b[0m \u001b[0;34m=\u001b[0m \u001b[0mx\u001b[0m \u001b[0;34m+\u001b[0m \u001b[0my\u001b[0m \u001b[0;34m+\u001b[0m \u001b[0msample_weights\u001b[0m\u001b[0;34m\u001b[0m\u001b[0;34m\u001b[0m\u001b[0m\n\u001b[1;32m   1513\u001b[0m         \u001b[0mself\u001b[0m\u001b[0;34m.\u001b[0m\u001b[0m_make_train_function\u001b[0m\u001b[0;34m(\u001b[0m\u001b[0;34m)\u001b[0m\u001b[0;34m\u001b[0m\u001b[0;34m\u001b[0m\u001b[0m\n\u001b[0;32m-> 1514\u001b[0;31m         \u001b[0moutputs\u001b[0m \u001b[0;34m=\u001b[0m \u001b[0mself\u001b[0m\u001b[0;34m.\u001b[0m\u001b[0mtrain_function\u001b[0m\u001b[0;34m(\u001b[0m\u001b[0mins\u001b[0m\u001b[0;34m)\u001b[0m\u001b[0;34m\u001b[0m\u001b[0;34m\u001b[0m\u001b[0m\n\u001b[0m\u001b[1;32m   1515\u001b[0m \u001b[0;34m\u001b[0m\u001b[0m\n\u001b[1;32m   1516\u001b[0m         \u001b[0;32mif\u001b[0m \u001b[0mreset_metrics\u001b[0m\u001b[0;34m:\u001b[0m\u001b[0;34m\u001b[0m\u001b[0;34m\u001b[0m\u001b[0m\n",
      "\u001b[0;32m~/ML/lib/python3.7/site-packages/tensorflow_core/python/keras/backend.py\u001b[0m in \u001b[0;36m__call__\u001b[0;34m(self, inputs)\u001b[0m\n\u001b[1;32m   3474\u001b[0m \u001b[0;34m\u001b[0m\u001b[0m\n\u001b[1;32m   3475\u001b[0m     fetched = self._callable_fn(*array_vals,\n\u001b[0;32m-> 3476\u001b[0;31m                                 run_metadata=self.run_metadata)\n\u001b[0m\u001b[1;32m   3477\u001b[0m     \u001b[0mself\u001b[0m\u001b[0;34m.\u001b[0m\u001b[0m_call_fetch_callbacks\u001b[0m\u001b[0;34m(\u001b[0m\u001b[0mfetched\u001b[0m\u001b[0;34m[\u001b[0m\u001b[0;34m-\u001b[0m\u001b[0mlen\u001b[0m\u001b[0;34m(\u001b[0m\u001b[0mself\u001b[0m\u001b[0;34m.\u001b[0m\u001b[0m_fetches\u001b[0m\u001b[0;34m)\u001b[0m\u001b[0;34m:\u001b[0m\u001b[0;34m]\u001b[0m\u001b[0;34m)\u001b[0m\u001b[0;34m\u001b[0m\u001b[0;34m\u001b[0m\u001b[0m\n\u001b[1;32m   3478\u001b[0m     output_structure = nest.pack_sequence_as(\n",
      "\u001b[0;32m~/ML/lib/python3.7/site-packages/tensorflow_core/python/client/session.py\u001b[0m in \u001b[0;36m__call__\u001b[0;34m(self, *args, **kwargs)\u001b[0m\n\u001b[1;32m   1470\u001b[0m         ret = tf_session.TF_SessionRunCallable(self._session._session,\n\u001b[1;32m   1471\u001b[0m                                                \u001b[0mself\u001b[0m\u001b[0;34m.\u001b[0m\u001b[0m_handle\u001b[0m\u001b[0;34m,\u001b[0m \u001b[0margs\u001b[0m\u001b[0;34m,\u001b[0m\u001b[0;34m\u001b[0m\u001b[0;34m\u001b[0m\u001b[0m\n\u001b[0;32m-> 1472\u001b[0;31m                                                run_metadata_ptr)\n\u001b[0m\u001b[1;32m   1473\u001b[0m         \u001b[0;32mif\u001b[0m \u001b[0mrun_metadata\u001b[0m\u001b[0;34m:\u001b[0m\u001b[0;34m\u001b[0m\u001b[0;34m\u001b[0m\u001b[0m\n\u001b[1;32m   1474\u001b[0m           \u001b[0mproto_data\u001b[0m \u001b[0;34m=\u001b[0m \u001b[0mtf_session\u001b[0m\u001b[0;34m.\u001b[0m\u001b[0mTF_GetBuffer\u001b[0m\u001b[0;34m(\u001b[0m\u001b[0mrun_metadata_ptr\u001b[0m\u001b[0;34m)\u001b[0m\u001b[0;34m\u001b[0m\u001b[0;34m\u001b[0m\u001b[0m\n",
      "\u001b[0;31mKeyboardInterrupt\u001b[0m: "
     ]
    }
   ],
   "source": [
    "if __name__ == \"__main__\":\n",
    "    base_path = \"./Dataset-copy/\"\n",
    "\n",
    "    dict_age = {'(0, 2)' : 0,\n",
    "                '(3, 5)' : 1,\n",
    "                '(6, 10)' : 2,\n",
    "                '(11, 15)' : 3,\n",
    "                '(16, 20)' : 4,\n",
    "                '(21, 30)' : 5,\n",
    "                '(31, 40)' : 6,\n",
    "                '(41, 50)' : 7,\n",
    "                '(51, 60)' : 8,\n",
    "                '(61, 70)' : 9,\n",
    "                '(71, 80)' : 10,\n",
    "                 '(81, 90)' : 11,\n",
    "                 '(91, 100)' : 12}\n",
    "\n",
    "    bag = 3\n",
    "\n",
    "    all_indexes = list(range(5))\n",
    "\n",
    "    accuracies = []\n",
    "    print(\"Reading train and test CSV files \")\n",
    "    train_df = pd.read_csv(\"imdb_dataset.csv\")\n",
    "    #test_df = pd.read_csv(\"test_gender_filtered_data_with_path.csv\")\n",
    "    tr_tr, tr_val = train_test_split(train_df, test_size=0.1,random_state = 100)\n",
    "    tr_val['out_ages'].groupby\n",
    "    print(\"Reading Done.\")\n",
    "    cnt_ave = 0\n",
    "    predictions = 0\n",
    "#     print(\"Extracting test labels and test images from files\")\n",
    "#     test_images = load(\"imdb_test_images.npy\")\n",
    "#     test_labels = load(\"imdb_test_labels.npy\")\n",
    "#     print(\"Extracting Done.\")\n",
    "    #tr_tr, tr_val = train_test_split(train_df, test_size=0.1,random_state = 100)\n",
    "    file_path = \"imdb_age_recog_weights.h5\"\n",
    "    \n",
    "    print(\"Generating callback_list\")\n",
    "    \n",
    "    checkpoint = ModelCheckpoint(file_path, monitor='val_acc', verbose=1, save_best_only=True, mode='max')\n",
    "\n",
    "    #early = EarlyStopping(monitor=\"val_acc\", mode=\"max\", patience=5)\n",
    "\n",
    "    reduce_on_plateau = ReduceLROnPlateau(monitor=\"val_loss\",\n",
    "                                          mode=\"min\", \n",
    "                                          factor=0.1,\n",
    "                                          #cooldown=0,\n",
    "                                          patience=3,\n",
    "                                          verbose=1,\n",
    "                                          min_lr=0.00001)\n",
    "\n",
    "    callbacks_list = [checkpoint,\n",
    "                      reduce_on_plateau,\n",
    "                      #early\n",
    "                     ]  # early\n",
    "    print(\"Done Generating callbacklist.\")\n",
    "    print(\"generating Model\")\n",
    "    model = get_model(n_classes=13)\n",
    "    print(\"Done generating model\")\n",
    "    print(\"Running Fit_generator\")\n",
    "    model.fit_generator(gen(tr_tr,batch_size=8, aug=True), \n",
    "                        validation_data=gen(tr_val), \n",
    "                        epochs=200, \n",
    "                        verbose=1, \n",
    "                        #workers=4,\n",
    "                        callbacks=callbacks_list,\n",
    "                        steps_per_epoch=500,#int(10740.75), \n",
    "                        validation_steps=50,\n",
    "                        #use_multiprocessing=True\n",
    "                       )\n",
    "    #model.save(file_path)\n",
    "    print(\"Trained Model saved to disk\")"
   ]
  },
  {
   "cell_type": "code",
   "execution_count": null,
   "metadata": {},
   "outputs": [],
   "source": [
    "y = model.pre"
   ]
  },
  {
   "cell_type": "code",
   "execution_count": null,
   "metadata": {},
   "outputs": [],
   "source": []
  },
  {
   "cell_type": "code",
   "execution_count": null,
   "metadata": {},
   "outputs": [],
   "source": []
  },
  {
   "cell_type": "code",
   "execution_count": null,
   "metadata": {},
   "outputs": [],
   "source": []
  },
  {
   "cell_type": "code",
   "execution_count": 15,
   "metadata": {},
   "outputs": [],
   "source": [
    "\n",
    "train_df = pd.read_csv(\"imdb_dataset.csv\")\n",
    "tr_tr, tr_val = train_test_split(train_df, test_size=0.1,random_state = 100)\n",
    "tr_val, tr_test = train_test_split(tr_val,test_size=0.1,random_state = 100)\n",
    "test_images = np.array([read_and_resize(file_path) for file_path in tr_test.path.values])\n",
    "test_labels = np.array([file_path for file_path in tr_test.path.values])"
   ]
  },
  {
   "cell_type": "code",
   "execution_count": 11,
   "metadata": {},
   "outputs": [],
   "source": [
    "save(\"imdb_test_images.npy\",test_images)"
   ]
  },
  {
   "cell_type": "code",
   "execution_count": 13,
   "metadata": {},
   "outputs": [],
   "source": [
    "test_labels = np.array([int(g == \"m\") for g in tr_test.out_ages.values])"
   ]
  },
  {
   "cell_type": "code",
   "execution_count": 14,
   "metadata": {},
   "outputs": [],
   "source": [
    "save(\"imdb_test_labels.npy\",test_images)"
   ]
  },
  {
   "cell_type": "code",
   "execution_count": 17,
   "metadata": {},
   "outputs": [
    {
     "data": {
      "text/plain": [
       "1719"
      ]
     },
     "execution_count": 17,
     "metadata": {},
     "output_type": "execute_result"
    }
   ],
   "source": [
    "len(test_labels)"
   ]
  },
  {
   "cell_type": "code",
   "execution_count": 11,
   "metadata": {},
   "outputs": [],
   "source": [
    "model = load_model(\"imdb_age_recog_weights.h5\")"
   ]
  },
  {
   "cell_type": "code",
   "execution_count": 18,
   "metadata": {},
   "outputs": [],
   "source": [
    "y_predict = model.predict(test_images)"
   ]
  },
  {
   "cell_type": "code",
   "execution_count": 21,
   "metadata": {},
   "outputs": [],
   "source": [
    "index = 0\n",
    "prob_max_class = max(y_predict[index])\n",
    "age_class = np.where(y_predict[index] == prob_max_class)"
   ]
  },
  {
   "cell_type": "code",
   "execution_count": 24,
   "metadata": {},
   "outputs": [
    {
     "data": {
      "text/plain": [
       "6"
      ]
     },
     "execution_count": 24,
     "metadata": {},
     "output_type": "execute_result"
    }
   ],
   "source": [
    "age_class[0][0]"
   ]
  },
  {
   "cell_type": "code",
   "execution_count": 25,
   "metadata": {},
   "outputs": [],
   "source": [
    "dict_age = {'(0, 2)' : 0,\n",
    "                '(3, 5)' : 1,\n",
    "                '(6, 10)' : 2,\n",
    "                '(11, 15)' : 3,\n",
    "                '(16, 20)' : 4,\n",
    "                '(21, 30)' : 5,\n",
    "                '(31, 40)' : 6,\n",
    "                '(41, 50)' : 7,\n",
    "                '(51, 60)' : 8,\n",
    "                '(61, 70)' : 9,\n",
    "                '(71, 80)' : 10,\n",
    "                 '(81, 90)' : 11,\n",
    "                 '(91, 100)' : 12}"
   ]
  },
  {
   "cell_type": "code",
   "execution_count": 26,
   "metadata": {},
   "outputs": [
    {
     "ename": "KeyError",
     "evalue": "6",
     "output_type": "error",
     "traceback": [
      "\u001b[0;31m---------------------------------------------------------------------------\u001b[0m",
      "\u001b[0;31mKeyError\u001b[0m                                  Traceback (most recent call last)",
      "\u001b[0;32m<ipython-input-26-7a2fafe11b9c>\u001b[0m in \u001b[0;36m<module>\u001b[0;34m\u001b[0m\n\u001b[0;32m----> 1\u001b[0;31m \u001b[0mdict_age\u001b[0m\u001b[0;34m[\u001b[0m\u001b[0mage_class\u001b[0m\u001b[0;34m[\u001b[0m\u001b[0;36m0\u001b[0m\u001b[0;34m]\u001b[0m\u001b[0;34m[\u001b[0m\u001b[0;36m0\u001b[0m\u001b[0;34m]\u001b[0m\u001b[0;34m]\u001b[0m\u001b[0;34m\u001b[0m\u001b[0;34m\u001b[0m\u001b[0m\n\u001b[0m",
      "\u001b[0;31mKeyError\u001b[0m: 6"
     ]
    }
   ],
   "source": [
    "dict_age[age_class[0][0]]"
   ]
  },
  {
   "cell_type": "code",
   "execution_count": null,
   "metadata": {},
   "outputs": [],
   "source": []
  }
 ],
 "metadata": {
  "kernelspec": {
   "display_name": "Python 3",
   "language": "python",
   "name": "python3"
  },
  "language_info": {
   "codemirror_mode": {
    "name": "ipython",
    "version": 3
   },
   "file_extension": ".py",
   "mimetype": "text/x-python",
   "name": "python",
   "nbconvert_exporter": "python",
   "pygments_lexer": "ipython3",
   "version": "3.7.6"
  }
 },
 "nbformat": 4,
 "nbformat_minor": 4
}
