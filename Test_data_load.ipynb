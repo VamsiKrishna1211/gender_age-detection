{
 "cells": [
  {
   "cell_type": "code",
   "execution_count": 1,
   "metadata": {},
   "outputs": [],
   "source": [
    "import pandas as pd\n",
    "import cv2\n",
    "import numpy as np\n",
    "from tqdm.auto import tqdm\n",
    "import os\n",
    "import csv\n",
    "from PIL import Image"
   ]
  },
  {
   "cell_type": "code",
   "execution_count": 2,
   "metadata": {},
   "outputs": [],
   "source": [
    "folder_path = \"./Dataset-copy/test_data/wiki_crop/\""
   ]
  },
  {
   "cell_type": "code",
   "execution_count": 3,
   "metadata": {},
   "outputs": [
    {
     "name": "stdout",
     "output_type": "stream",
     "text": [
      "CPU times: user 43.6 ms, sys: 30 ms, total: 73.6 ms\n",
      "Wall time: 72.6 ms\n"
     ]
    }
   ],
   "source": [
    "%%time\n",
    "image_names = []\n",
    "dir_list_tmp = os.listdir(folder_path)#np.array(os.listdir(folder_path))\n",
    "for directory in dir_list_tmp:\n",
    "    for img in os.listdir(folder_path+directory):\n",
    "        image_names.append(folder_path+directory+'/'+img)\n",
    "        "
   ]
  },
  {
   "cell_type": "code",
   "execution_count": 4,
   "metadata": {},
   "outputs": [],
   "source": [
    "def get_age_predict_range(age):\n",
    "\n",
    "    if (age>=0 and age<=2):\n",
    "        return 0\n",
    "        \n",
    "    elif(age>=3 and age<=5):\n",
    "        return 1\n",
    "        \n",
    "    elif (age>=6 and age<=10):\n",
    "        return 2\n",
    "        \n",
    "    elif (age>=11 and age<=15):\n",
    "        return 3\n",
    "        \n",
    "    elif (age>=16 and age<=20):\n",
    "        return 4\n",
    "        \n",
    "    elif (age>=21 and age<=25):\n",
    "        return 5\n",
    "        \n",
    "    elif (age>=26 and age<=30):\n",
    "        return 6\n",
    "        \n",
    "    elif (age>=31 and age<=35):\n",
    "        return 7\n",
    "        \n",
    "    elif (age>=36 and age<=40):\n",
    "        return 8\n",
    "        \n",
    "    elif (age>=41 and age<=50):\n",
    "        return 9\n",
    "        \n",
    "    elif (age>=51 and age<=60):\n",
    "        return 10\n",
    "        \n",
    "    elif (age>=61 and age<=70):\n",
    "        return 11\n",
    "        \n",
    "    elif (age>=71 and age<=80):\n",
    "        return 12\n",
    "        \n",
    "    elif (age>=81 and age<=90):\n",
    "        return 13\n",
    "        \n",
    "    elif (age>=91 and age<=100):\n",
    "        return 14\n",
    "        \n",
    "    elif (age>100):\n",
    "        return 15\n",
    "    "
   ]
  },
  {
   "cell_type": "code",
   "execution_count": 30,
   "metadata": {},
   "outputs": [],
   "source": [
    "def get_age_range_key(image_path):\n",
    "    \n",
    "    img_name = image_path.split('/')[5]\n",
    "    age_start = img_name.split(\"_\")[1:]\n",
    "\n",
    "#img_ages = img_names.split(\"_\")[1:2]\n",
    "    img_age_range =[]\n",
    "    img_age_range.append(int(age_start[0].split(\"-\")[0]))\n",
    "    img_age_range.append(int(age_start[1].split(\".\")[0]))\n",
    "        \n",
    "    \n",
    "    img_age_actual = int(img_age_range[1] - img_age_range[0])\n",
    "    try:\n",
    "        if get_age_predict_range(img_age_actual) <= 14:\n",
    "            img_age = get_age_predict_range(img_age_actual)\n",
    "        else:\n",
    "            img_age = None\n",
    "            \n",
    "    except TypeError:\n",
    "        print(img_path)\n",
    "        return False\n",
    "            \n",
    "    #img_age = get_age_predict_range(img_age_actual) if get_age_predict_range(img_age_actual) <= 14 else None\n",
    "    try: \n",
    "        return int(img_age)\n",
    "    except TypeError:\n",
    "        print(image_path)\n",
    "        return False\n",
    "        "
   ]
  },
  {
   "cell_type": "code",
   "execution_count": 31,
   "metadata": {},
   "outputs": [],
   "source": [
    "def detect_face_presence(path):\n",
    "    try:\n",
    "        Image.open(path)\n",
    "    except PIL.UnidentifiedImageError:\n",
    "        return False\n",
    "        \n",
    "    \n",
    "    face_cascade = cv2.CascadeClassifier(cv2.data.haarcascades +'haarcascade_frontalface_default.xml')\n",
    "    img = cv2.imread(path)\n",
    "    gray = cv2.cvtColor(img, cv2.COLOR_BGR2GRAY)\n",
    "    \n",
    "    faces = face_cascade.detectMultiScale(gray, 1.3, 5)\n",
    "    if len(faces) > 0:\n",
    "        return True\n",
    "    else:\n",
    "        return False\n",
    "    "
   ]
  },
  {
   "cell_type": "code",
   "execution_count": 32,
   "metadata": {},
   "outputs": [
    {
     "name": "stdout",
     "output_type": "stream",
     "text": [
      "CPU times: user 93.8 ms, sys: 39.4 ms, total: 133 ms\n",
      "Wall time: 137 ms\n"
     ]
    }
   ],
   "source": [
    "%%time\n",
    "folder_path = \"./Dataset-copy/test_data/wiki_crop/\"\n",
    "image_names = []\n",
    "dir_list_tmp = os.listdir(folder_path)\n",
    "for directory in dir_list_tmp:\n",
    "    for img in os.listdir(folder_path+directory):\n",
    "        image_names.append(folder_path+directory+'/'+img)"
   ]
  },
  {
   "cell_type": "markdown",
   "metadata": {},
   "source": [
    "# Only run the below code block if you wish to reset the csv file"
   ]
  },
  {
   "cell_type": "code",
   "execution_count": 33,
   "metadata": {},
   "outputs": [
    {
     "name": "stdout",
     "output_type": "stream",
     "text": [
      "CPU times: user 13.8 ms, sys: 3.22 ms, total: 17.1 ms\n",
      "Wall time: 16.1 ms\n"
     ]
    }
   ],
   "source": [
    "%%time\n",
    "cols = [\"image_path\", \"age_range_key\"]\n",
    "df = pd.DataFrame(columns=cols)\n",
    "df.to_csv(\"test_data.csv\", index=False)"
   ]
  },
  {
   "cell_type": "code",
   "execution_count": 34,
   "metadata": {},
   "outputs": [
    {
     "data": {
      "application/vnd.jupyter.widget-view+json": {
       "model_id": "df40f72343744261b5b2e4f6111fa53d",
       "version_major": 2,
       "version_minor": 0
      },
      "text/plain": [
       "HBox(children=(FloatProgress(value=0.0, max=62328.0), HTML(value='')))"
      ]
     },
     "metadata": {},
     "output_type": "display_data"
    },
    {
     "name": "stdout",
     "output_type": "stream",
     "text": [
      "./Dataset-copy/test_data/wiki_crop/68/25377668_1760-05-05_1945.jpg\n",
      "./Dataset-copy/test_data/wiki_crop/68/23555068_1895-08-03_2005.jpg\n",
      "./Dataset-copy/test_data/wiki_crop/75/32659275_1899-08-14_2009.jpg\n",
      "./Dataset-copy/test_data/wiki_crop/43/22504543_11-03-00_2007.jpg\n",
      "./Dataset-copy/test_data/wiki_crop/43/19540543_1794-03-17_2006.jpg\n",
      "./Dataset-copy/test_data/wiki_crop/87/4758787_1849-06-21_2001.jpg\n",
      "./Dataset-copy/test_data/wiki_crop/06/42881906_1888-01-29_1990.jpg\n",
      "./Dataset-copy/test_data/wiki_crop/20/19821120_1825-07-11_1950.jpg\n",
      "./Dataset-copy/test_data/wiki_crop/10/6603110_1860-08-12_1963.jpg\n",
      "./Dataset-copy/test_data/wiki_crop/49/11092749_1896-12-16_2008.jpg\n",
      "./Dataset-copy/test_data/wiki_crop/50/913950_1899-07-03_2013.jpg\n",
      "./Dataset-copy/test_data/wiki_crop/12/98912_1802-12-15_2012.jpg\n",
      "./Dataset-copy/test_data/wiki_crop/12/32693112_1901-07-16_2015.jpg\n",
      "./Dataset-copy/test_data/wiki_crop/67/9304667_1896-09-21_2010.jpg\n",
      "./Dataset-copy/test_data/wiki_crop/22/5164322_1875-03-27_1989.jpg\n",
      "./Dataset-copy/test_data/wiki_crop/79/16127179_1896-11-13_2007.jpg\n",
      "./Dataset-copy/test_data/wiki_crop/95/36922695_1902-01-27_2004.jpg\n",
      "./Dataset-copy/test_data/wiki_crop/95/49695_1752-09-18_2009.jpg\n",
      "./Dataset-copy/test_data/wiki_crop/84/24383784_1910-03-27_2011.jpg\n",
      "./Dataset-copy/test_data/wiki_crop/01/658701_1712-06-14_1962.jpg\n",
      "./Dataset-copy/test_data/wiki_crop/62/491662_1863-04-03_2004.jpg\n",
      "./Dataset-copy/test_data/wiki_crop/98/5933098_1842-10-21_1971.jpg\n",
      "./Dataset-copy/test_data/wiki_crop/69/3139869_1743-09-11_2012.jpg\n",
      "./Dataset-copy/test_data/wiki_crop/52/9959752_1897-12-24_2006.jpg\n",
      "./Dataset-copy/test_data/wiki_crop/17/14317_1907-05-22_2011.jpg\n",
      "./Dataset-copy/test_data/wiki_crop/02/43409202_1997-01-21_1993.jpg\n",
      "./Dataset-copy/test_data/wiki_crop/90/126090_1560-08-07_1990.jpg\n",
      "./Dataset-copy/test_data/wiki_crop/90/9271090_1896-10-13_2007.jpg\n",
      "./Dataset-copy/test_data/wiki_crop/90/1202690_1878-01-21_2003.jpg\n",
      "./Dataset-copy/test_data/wiki_crop/51/39367651_1910-04-12_2013.jpg\n",
      "./Dataset-copy/test_data/wiki_crop/15/24127215_1907-05-04_2008.jpg\n",
      "./Dataset-copy/test_data/wiki_crop/26/9639026_1908-12-07_2009.jpg\n",
      "./Dataset-copy/test_data/wiki_crop/03/225603_1884-12-25_2004.jpg\n",
      "./Dataset-copy/test_data/wiki_crop/92/14449892_1894-08-08_2002.jpg\n",
      "\n",
      "CPU times: user 1h 13min 25s, sys: 1min 49s, total: 1h 15min 14s\n",
      "Wall time: 47min 49s\n"
     ]
    }
   ],
   "source": [
    "%%time\n",
    "image_names_tqdm = tqdm(image_names)\n",
    "with open(\"test_data.csv\", \"w\") as file:\n",
    "    file_writer = csv.writer(file)\n",
    "    for img_path in image_names_tqdm:\n",
    "        if detect_face_presence(img_path):\n",
    "            #print(img_path)\n",
    "            age_range = get_age_range_key(img_path)\n",
    "            if not age_range:\n",
    "                continue\n",
    "            file_writer.writerow([img_path, age_range])\n",
    "        else:\n",
    "            continue\n",
    "df = pd.read_csv(\"test_data.csv\", names=cols)\n",
    "df.to_csv(\"test_data.csv\", index=False)"
   ]
  },
  {
   "cell_type": "code",
   "execution_count": 38,
   "metadata": {},
   "outputs": [
    {
     "name": "stdout",
     "output_type": "stream",
     "text": [
      "Variable                Type             Data/Info\n",
      "--------------------------------------------------\n",
      "Image                   module           <module 'PIL.Image' from <...>e-packages/PIL/Image.py'>\n",
      "age_range               int              5\n",
      "cols                    list             n=2\n",
      "csv                     module           <module 'csv' from '/usr/<...>al/lib/python3.7/csv.py'>\n",
      "cv2                     module           <module 'cv2.cv2' from '/<...>37m-x86_64-linux-gnu.so'>\n",
      "detect_face_presence    function         <function detect_face_presence at 0x7fb9a57deb90>\n",
      "df                      DataFrame                                 <...>n[28934 rows x 2 columns]\n",
      "dir_list_tmp            list             n=101\n",
      "directory               str              31\n",
      "file                    TextIOWrapper    <_io.TextIOWrapper name='<...>ode='w' encoding='UTF-8'>\n",
      "file_writer             writer           <_csv.writer object at 0x7fb9a4fe8e30>\n",
      "folder_path             str              ./Dataset-copy/test_data/wiki_crop/\n",
      "get_age_predict_range   function         <function get_age_predict<...>_range at 0x7fba2c2f2a70>\n",
      "get_age_range_key       function         <function get_age_range_key at 0x7fb9a5e8da70>\n",
      "image_names             list             n=62328\n",
      "image_names_tqdm        tqdm_notebook    100%|<bar/>| 62328/62328 [57:37<00:00, 18.03it/s]\n",
      "img                     str              2431131_1949-09-03_2013.jpg\n",
      "img_path                str              ./Dataset-copy/test_data/<...>31131_1949-09-03_2013.jpg\n",
      "np                      module           <module 'numpy' from '/mn<...>kages/numpy/__init__.py'>\n",
      "os                      module           <module 'os' from '/usr/l<...>cal/lib/python3.7/os.py'>\n",
      "pd                      module           <module 'pandas' from '/m<...>ages/pandas/__init__.py'>\n",
      "tqdm                    type             <class 'tqdm.notebook.tqdm_notebook'>\n"
     ]
    }
   ],
   "source": [
    "%whos"
   ]
  },
  {
   "cell_type": "code",
   "execution_count": null,
   "metadata": {},
   "outputs": [],
   "source": []
  },
  {
   "cell_type": "code",
   "execution_count": null,
   "metadata": {},
   "outputs": [],
   "source": []
  },
  {
   "cell_type": "code",
   "execution_count": null,
   "metadata": {},
   "outputs": [],
   "source": []
  },
  {
   "cell_type": "code",
   "execution_count": null,
   "metadata": {},
   "outputs": [],
   "source": []
  },
  {
   "cell_type": "code",
   "execution_count": null,
   "metadata": {},
   "outputs": [],
   "source": [
    "img_name = image_names[1].split('/')[4]\n",
    "img_ages_range = img_name.split(\"_\")[1:]"
   ]
  },
  {
   "cell_type": "code",
   "execution_count": null,
   "metadata": {},
   "outputs": [],
   "source": [
    "img_ages_range"
   ]
  },
  {
   "cell_type": "code",
   "execution_count": null,
   "metadata": {},
   "outputs": [],
   "source": [
    "image_names[0]"
   ]
  },
  {
   "cell_type": "code",
   "execution_count": null,
   "metadata": {},
   "outputs": [],
   "source": [
    "get_age_predict_range(image_names[0])"
   ]
  },
  {
   "cell_type": "code",
   "execution_count": null,
   "metadata": {},
   "outputs": [],
   "source": [
    "type(get_age_range_key(image_names[0]))"
   ]
  },
  {
   "cell_type": "code",
   "execution_count": null,
   "metadata": {},
   "outputs": [],
   "source": [
    "image_names[0].split('/')"
   ]
  },
  {
   "cell_type": "code",
   "execution_count": null,
   "metadata": {},
   "outputs": [],
   "source": []
  }
 ],
 "metadata": {
  "kernelspec": {
   "display_name": "Python 3",
   "language": "python",
   "name": "python3"
  },
  "language_info": {
   "codemirror_mode": {
    "name": "ipython",
    "version": 3
   },
   "file_extension": ".py",
   "mimetype": "text/x-python",
   "name": "python",
   "nbconvert_exporter": "python",
   "pygments_lexer": "ipython3",
   "version": "3.7.6"
  }
 },
 "nbformat": 4,
 "nbformat_minor": 4
}
